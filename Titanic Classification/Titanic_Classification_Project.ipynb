{
 "cells": [
  {
   "cell_type": "code",
   "execution_count": 1,
   "id": "fe4faec4",
   "metadata": {},
   "outputs": [],
   "source": [
    "# Regular EDA\n",
    "import pandas as pd\n",
    "import numpy as np\n",
    "import seaborn as sns\n",
    "import matplotlib.pyplot as plt\n",
    "import warnings\n",
    "warnings.filterwarnings('ignore')\n",
    "%matplotlib inline\n",
    "\n",
    "# Feature Engineering\n",
    "from sklearn.preprocessing import OneHotEncoder\n",
    "from sklearn.compose import ColumnTransformer\n",
    "\n",
    "# Model Evaluations\n",
    "from sklearn.model_selection import RandomizedSearchCV, GridSearchCV\n",
    "from sklearn.model_selection import train_test_split, cross_val_score\n",
    "from sklearn.metrics import confusion_matrix, classification_report\n",
    "from sklearn.metrics import precision_score, recall_score, f1_score\n",
    "from sklearn.metrics import plot_roc_curve\n",
    "\n",
    "# Models from sklearn\n",
    "from sklearn.ensemble import RandomForestClassifier\n",
    "from sklearn.linear_model import LogisticRegression\n",
    "from sklearn.neighbors import KNeighborsClassifier\n",
    "from sklearn.tree import DecisionTreeClassifier"
   ]
  },
  {
   "cell_type": "code",
   "execution_count": 2,
   "id": "50549a80",
   "metadata": {},
   "outputs": [
    {
     "data": {
      "text/html": [
       "<div>\n",
       "<style scoped>\n",
       "    .dataframe tbody tr th:only-of-type {\n",
       "        vertical-align: middle;\n",
       "    }\n",
       "\n",
       "    .dataframe tbody tr th {\n",
       "        vertical-align: top;\n",
       "    }\n",
       "\n",
       "    .dataframe thead th {\n",
       "        text-align: right;\n",
       "    }\n",
       "</style>\n",
       "<table border=\"1\" class=\"dataframe\">\n",
       "  <thead>\n",
       "    <tr style=\"text-align: right;\">\n",
       "      <th></th>\n",
       "      <th>PassengerId</th>\n",
       "      <th>Survived</th>\n",
       "      <th>Pclass</th>\n",
       "      <th>Name</th>\n",
       "      <th>Sex</th>\n",
       "      <th>Age</th>\n",
       "      <th>SibSp</th>\n",
       "      <th>Parch</th>\n",
       "      <th>Ticket</th>\n",
       "      <th>Fare</th>\n",
       "      <th>Cabin</th>\n",
       "      <th>Embarked</th>\n",
       "    </tr>\n",
       "  </thead>\n",
       "  <tbody>\n",
       "    <tr>\n",
       "      <th>0</th>\n",
       "      <td>1</td>\n",
       "      <td>0</td>\n",
       "      <td>3</td>\n",
       "      <td>Braund, Mr. Owen Harris</td>\n",
       "      <td>male</td>\n",
       "      <td>22.0</td>\n",
       "      <td>1</td>\n",
       "      <td>0</td>\n",
       "      <td>A/5 21171</td>\n",
       "      <td>7.2500</td>\n",
       "      <td>NaN</td>\n",
       "      <td>S</td>\n",
       "    </tr>\n",
       "    <tr>\n",
       "      <th>1</th>\n",
       "      <td>2</td>\n",
       "      <td>1</td>\n",
       "      <td>1</td>\n",
       "      <td>Cumings, Mrs. John Bradley (Florence Briggs Th...</td>\n",
       "      <td>female</td>\n",
       "      <td>38.0</td>\n",
       "      <td>1</td>\n",
       "      <td>0</td>\n",
       "      <td>PC 17599</td>\n",
       "      <td>71.2833</td>\n",
       "      <td>C85</td>\n",
       "      <td>C</td>\n",
       "    </tr>\n",
       "    <tr>\n",
       "      <th>2</th>\n",
       "      <td>3</td>\n",
       "      <td>1</td>\n",
       "      <td>3</td>\n",
       "      <td>Heikkinen, Miss. Laina</td>\n",
       "      <td>female</td>\n",
       "      <td>26.0</td>\n",
       "      <td>0</td>\n",
       "      <td>0</td>\n",
       "      <td>STON/O2. 3101282</td>\n",
       "      <td>7.9250</td>\n",
       "      <td>NaN</td>\n",
       "      <td>S</td>\n",
       "    </tr>\n",
       "  </tbody>\n",
       "</table>\n",
       "</div>"
      ],
      "text/plain": [
       "   PassengerId  Survived  Pclass  \\\n",
       "0            1         0       3   \n",
       "1            2         1       1   \n",
       "2            3         1       3   \n",
       "\n",
       "                                                Name     Sex   Age  SibSp  \\\n",
       "0                            Braund, Mr. Owen Harris    male  22.0      1   \n",
       "1  Cumings, Mrs. John Bradley (Florence Briggs Th...  female  38.0      1   \n",
       "2                             Heikkinen, Miss. Laina  female  26.0      0   \n",
       "\n",
       "   Parch            Ticket     Fare Cabin Embarked  \n",
       "0      0         A/5 21171   7.2500   NaN        S  \n",
       "1      0          PC 17599  71.2833   C85        C  \n",
       "2      0  STON/O2. 3101282   7.9250   NaN        S  "
      ]
     },
     "execution_count": 2,
     "metadata": {},
     "output_type": "execute_result"
    }
   ],
   "source": [
    "titanic = pd.read_csv('./train.csv')\n",
    "df = titanic.copy()\n",
    "tes_df = pd.read_csv('./test.csv')\n",
    "test_df = tes_df.copy()\n",
    "df.head(3)"
   ]
  },
  {
   "cell_type": "code",
   "execution_count": 3,
   "id": "40ddb33b",
   "metadata": {},
   "outputs": [
    {
     "data": {
      "text/html": [
       "<div>\n",
       "<style scoped>\n",
       "    .dataframe tbody tr th:only-of-type {\n",
       "        vertical-align: middle;\n",
       "    }\n",
       "\n",
       "    .dataframe tbody tr th {\n",
       "        vertical-align: top;\n",
       "    }\n",
       "\n",
       "    .dataframe thead th {\n",
       "        text-align: right;\n",
       "    }\n",
       "</style>\n",
       "<table border=\"1\" class=\"dataframe\">\n",
       "  <thead>\n",
       "    <tr style=\"text-align: right;\">\n",
       "      <th></th>\n",
       "      <th>passengerId</th>\n",
       "      <th>survived</th>\n",
       "      <th>pclass</th>\n",
       "      <th>name</th>\n",
       "      <th>sex</th>\n",
       "      <th>age</th>\n",
       "      <th>sibsp</th>\n",
       "      <th>parch</th>\n",
       "      <th>ticket</th>\n",
       "      <th>fare</th>\n",
       "      <th>cabin</th>\n",
       "      <th>embarked</th>\n",
       "    </tr>\n",
       "  </thead>\n",
       "  <tbody>\n",
       "    <tr>\n",
       "      <th>0</th>\n",
       "      <td>1</td>\n",
       "      <td>0</td>\n",
       "      <td>3</td>\n",
       "      <td>Braund, Mr. Owen Harris</td>\n",
       "      <td>male</td>\n",
       "      <td>22.0</td>\n",
       "      <td>1</td>\n",
       "      <td>0</td>\n",
       "      <td>A/5 21171</td>\n",
       "      <td>7.2500</td>\n",
       "      <td>NaN</td>\n",
       "      <td>S</td>\n",
       "    </tr>\n",
       "    <tr>\n",
       "      <th>1</th>\n",
       "      <td>2</td>\n",
       "      <td>1</td>\n",
       "      <td>1</td>\n",
       "      <td>Cumings, Mrs. John Bradley (Florence Briggs Th...</td>\n",
       "      <td>female</td>\n",
       "      <td>38.0</td>\n",
       "      <td>1</td>\n",
       "      <td>0</td>\n",
       "      <td>PC 17599</td>\n",
       "      <td>71.2833</td>\n",
       "      <td>C85</td>\n",
       "      <td>C</td>\n",
       "    </tr>\n",
       "    <tr>\n",
       "      <th>2</th>\n",
       "      <td>3</td>\n",
       "      <td>1</td>\n",
       "      <td>3</td>\n",
       "      <td>Heikkinen, Miss. Laina</td>\n",
       "      <td>female</td>\n",
       "      <td>26.0</td>\n",
       "      <td>0</td>\n",
       "      <td>0</td>\n",
       "      <td>STON/O2. 3101282</td>\n",
       "      <td>7.9250</td>\n",
       "      <td>NaN</td>\n",
       "      <td>S</td>\n",
       "    </tr>\n",
       "  </tbody>\n",
       "</table>\n",
       "</div>"
      ],
      "text/plain": [
       "   passengerId  survived  pclass  \\\n",
       "0            1         0       3   \n",
       "1            2         1       1   \n",
       "2            3         1       3   \n",
       "\n",
       "                                                name     sex   age  sibsp  \\\n",
       "0                            Braund, Mr. Owen Harris    male  22.0      1   \n",
       "1  Cumings, Mrs. John Bradley (Florence Briggs Th...  female  38.0      1   \n",
       "2                             Heikkinen, Miss. Laina  female  26.0      0   \n",
       "\n",
       "   parch            ticket     fare cabin embarked  \n",
       "0      0         A/5 21171   7.2500   NaN        S  \n",
       "1      0          PC 17599  71.2833   C85        C  \n",
       "2      0  STON/O2. 3101282   7.9250   NaN        S  "
      ]
     },
     "execution_count": 3,
     "metadata": {},
     "output_type": "execute_result"
    }
   ],
   "source": [
    "def col_names(dfs):\n",
    "    dfs.columns = map(str.lower, dfs.columns)\n",
    "    dfs.rename(columns={'passengerid':'passengerId'}, inplace=True)\n",
    "    \n",
    "col_names(df)\n",
    "df.head(3)"
   ]
  },
  {
   "cell_type": "code",
   "execution_count": 4,
   "id": "18d1bde6",
   "metadata": {},
   "outputs": [
    {
     "data": {
      "text/html": [
       "<div>\n",
       "<style scoped>\n",
       "    .dataframe tbody tr th:only-of-type {\n",
       "        vertical-align: middle;\n",
       "    }\n",
       "\n",
       "    .dataframe tbody tr th {\n",
       "        vertical-align: top;\n",
       "    }\n",
       "\n",
       "    .dataframe thead th {\n",
       "        text-align: right;\n",
       "    }\n",
       "</style>\n",
       "<table border=\"1\" class=\"dataframe\">\n",
       "  <thead>\n",
       "    <tr style=\"text-align: right;\">\n",
       "      <th></th>\n",
       "      <th>passengerId</th>\n",
       "      <th>survived</th>\n",
       "      <th>pclass</th>\n",
       "      <th>name</th>\n",
       "      <th>sex</th>\n",
       "      <th>age</th>\n",
       "      <th>sibsp</th>\n",
       "      <th>parch</th>\n",
       "      <th>ticket</th>\n",
       "      <th>fare</th>\n",
       "      <th>cabin</th>\n",
       "      <th>embarked</th>\n",
       "    </tr>\n",
       "  </thead>\n",
       "  <tbody>\n",
       "    <tr>\n",
       "      <th>0</th>\n",
       "      <td>1</td>\n",
       "      <td>0</td>\n",
       "      <td>3</td>\n",
       "      <td>Braund, Mr. Owen Harris</td>\n",
       "      <td>male</td>\n",
       "      <td>22.0</td>\n",
       "      <td>1</td>\n",
       "      <td>0</td>\n",
       "      <td>A/5 21171</td>\n",
       "      <td>7.25</td>\n",
       "      <td>NaN</td>\n",
       "      <td>S</td>\n",
       "    </tr>\n",
       "    <tr>\n",
       "      <th>1</th>\n",
       "      <td>2</td>\n",
       "      <td>1</td>\n",
       "      <td>1</td>\n",
       "      <td>Cumings, Mrs. John Bradley (Florence Briggs Th...</td>\n",
       "      <td>female</td>\n",
       "      <td>38.0</td>\n",
       "      <td>1</td>\n",
       "      <td>0</td>\n",
       "      <td>PC 17599</td>\n",
       "      <td>71.28</td>\n",
       "      <td>C85</td>\n",
       "      <td>C</td>\n",
       "    </tr>\n",
       "    <tr>\n",
       "      <th>2</th>\n",
       "      <td>3</td>\n",
       "      <td>1</td>\n",
       "      <td>3</td>\n",
       "      <td>Heikkinen, Miss. Laina</td>\n",
       "      <td>female</td>\n",
       "      <td>26.0</td>\n",
       "      <td>0</td>\n",
       "      <td>0</td>\n",
       "      <td>STON/O2. 3101282</td>\n",
       "      <td>7.92</td>\n",
       "      <td>NaN</td>\n",
       "      <td>S</td>\n",
       "    </tr>\n",
       "  </tbody>\n",
       "</table>\n",
       "</div>"
      ],
      "text/plain": [
       "   passengerId  survived  pclass  \\\n",
       "0            1         0       3   \n",
       "1            2         1       1   \n",
       "2            3         1       3   \n",
       "\n",
       "                                                name     sex   age  sibsp  \\\n",
       "0                            Braund, Mr. Owen Harris    male  22.0      1   \n",
       "1  Cumings, Mrs. John Bradley (Florence Briggs Th...  female  38.0      1   \n",
       "2                             Heikkinen, Miss. Laina  female  26.0      0   \n",
       "\n",
       "   parch            ticket   fare cabin embarked  \n",
       "0      0         A/5 21171   7.25   NaN        S  \n",
       "1      0          PC 17599  71.28   C85        C  \n",
       "2      0  STON/O2. 3101282   7.92   NaN        S  "
      ]
     },
     "execution_count": 4,
     "metadata": {},
     "output_type": "execute_result"
    }
   ],
   "source": [
    "def two_digit(dfs):\n",
    "    dfs.fare = dfs.fare.round(2)\n",
    "    \n",
    "two_digit(df)\n",
    "df.head(3)"
   ]
  },
  {
   "cell_type": "code",
   "execution_count": 5,
   "id": "f4fb3a8a",
   "metadata": {},
   "outputs": [],
   "source": [
    "def cat_type(dfs):\n",
    "    \n",
    "    cat_col = ['name', 'sex', 'ticket', 'cabin', 'embarked']\n",
    "    \n",
    "    for col in cat_col:\n",
    "        dfs[col] = dfs[col].astype('category')\n",
    "\n",
    "cat_type(df)"
   ]
  },
  {
   "cell_type": "code",
   "execution_count": 6,
   "id": "6ba0fa52",
   "metadata": {},
   "outputs": [
    {
     "name": "stdout",
     "output_type": "stream",
     "text": [
      "<class 'pandas.core.frame.DataFrame'>\n",
      "RangeIndex: 891 entries, 0 to 890\n",
      "Data columns (total 12 columns):\n",
      " #   Column       Non-Null Count  Dtype   \n",
      "---  ------       --------------  -----   \n",
      " 0   passengerId  891 non-null    int64   \n",
      " 1   survived     891 non-null    int64   \n",
      " 2   pclass       891 non-null    int64   \n",
      " 3   name         891 non-null    category\n",
      " 4   sex          891 non-null    category\n",
      " 5   age          714 non-null    float64 \n",
      " 6   sibsp        891 non-null    int64   \n",
      " 7   parch        891 non-null    int64   \n",
      " 8   ticket       891 non-null    category\n",
      " 9   fare         891 non-null    float64 \n",
      " 10  cabin        204 non-null    category\n",
      " 11  embarked     889 non-null    category\n",
      "dtypes: category(5), float64(2), int64(5)\n",
      "memory usage: 122.0 KB\n"
     ]
    }
   ],
   "source": [
    "df.info()"
   ]
  },
  {
   "cell_type": "markdown",
   "id": "325e124f",
   "metadata": {},
   "source": [
    "### Dealing with Missing Values"
   ]
  },
  {
   "cell_type": "code",
   "execution_count": 7,
   "id": "d2cf2800",
   "metadata": {},
   "outputs": [
    {
     "data": {
      "image/png": "[encoded data removed]",
      "text/plain": [
       "<Figure size 640x480 with 2 Axes>"
      ]
     },
     "metadata": {},
     "output_type": "display_data"
    }
   ],
   "source": [
    "missing_val = sns.heatmap(df.isna().transpose(), cmap='PuBuGn')\n",
    "missing_val;"
   ]
  },
  {
   "cell_type": "code",
   "execution_count": 8,
   "id": "b9117386",
   "metadata": {},
   "outputs": [
    {
     "data": {
      "text/plain": [
       "C23 C25 C27    4\n",
       "G6             4\n",
       "B96 B98        4\n",
       "F2             3\n",
       "C22 C26        3\n",
       "              ..\n",
       "C101           1\n",
       "B94            1\n",
       "B86            1\n",
       "B82 B84        1\n",
       "T              1\n",
       "Name: cabin, Length: 147, dtype: int64"
      ]
     },
     "execution_count": 8,
     "metadata": {},
     "output_type": "execute_result"
    }
   ],
   "source": [
    "df.cabin.value_counts()"
   ]
  },
  {
   "cell_type": "code",
   "execution_count": 9,
   "id": "d8a0f6d5",
   "metadata": {},
   "outputs": [],
   "source": [
    "def fill_missing_val(dfs):\n",
    "    mean = dfs.age.mean()\n",
    "    dfs.age.fillna(mean, inplace=True)\n",
    "    dfs.age = dfs.age.astype(int)\n",
    "    dfs.dropna(subset='embarked', inplace=True)\n",
    "    \n",
    "fill_missing_val(df)"
   ]
  },
  {
   "cell_type": "code",
   "execution_count": 10,
   "id": "92bf0613",
   "metadata": {},
   "outputs": [],
   "source": [
    "df = df.apply(lambda x: x.fillna(x.value_counts().index[0]))"
   ]
  },
  {
   "cell_type": "code",
   "execution_count": 11,
   "id": "224ea12a",
   "metadata": {},
   "outputs": [
    {
     "data": {
      "text/plain": [
       "29    197\n",
       "24     31\n",
       "22     27\n",
       "28     27\n",
       "30     27\n",
       "     ... \n",
       "66      1\n",
       "53      1\n",
       "80      1\n",
       "12      1\n",
       "74      1\n",
       "Name: age, Length: 71, dtype: int64"
      ]
     },
     "execution_count": 11,
     "metadata": {},
     "output_type": "execute_result"
    }
   ],
   "source": [
    "df.age.value_counts()"
   ]
  },
  {
   "cell_type": "code",
   "execution_count": 12,
   "id": "e8d5bcf6",
   "metadata": {},
   "outputs": [
    {
     "data": {
      "text/plain": [
       "passengerId    0\n",
       "survived       0\n",
       "pclass         0\n",
       "name           0\n",
       "sex            0\n",
       "age            0\n",
       "sibsp          0\n",
       "parch          0\n",
       "ticket         0\n",
       "fare           0\n",
       "cabin          0\n",
       "embarked       0\n",
       "dtype: int64"
      ]
     },
     "execution_count": 12,
     "metadata": {},
     "output_type": "execute_result"
    }
   ],
   "source": [
    "df.isna().sum()"
   ]
  },
  {
   "cell_type": "code",
   "execution_count": 13,
   "id": "44bb3746",
   "metadata": {},
   "outputs": [
    {
     "data": {
      "text/html": [
       "<div>\n",
       "<style scoped>\n",
       "    .dataframe tbody tr th:only-of-type {\n",
       "        vertical-align: middle;\n",
       "    }\n",
       "\n",
       "    .dataframe tbody tr th {\n",
       "        vertical-align: top;\n",
       "    }\n",
       "\n",
       "    .dataframe thead th {\n",
       "        text-align: right;\n",
       "    }\n",
       "</style>\n",
       "<table border=\"1\" class=\"dataframe\">\n",
       "  <thead>\n",
       "    <tr style=\"text-align: right;\">\n",
       "      <th></th>\n",
       "      <th>age</th>\n",
       "      <th>fare</th>\n",
       "    </tr>\n",
       "  </thead>\n",
       "  <tbody>\n",
       "    <tr>\n",
       "      <th>count</th>\n",
       "      <td>889.000000</td>\n",
       "      <td>889.000000</td>\n",
       "    </tr>\n",
       "    <tr>\n",
       "      <th>mean</th>\n",
       "      <td>29.498313</td>\n",
       "      <td>32.096839</td>\n",
       "    </tr>\n",
       "    <tr>\n",
       "      <th>std</th>\n",
       "      <td>12.979638</td>\n",
       "      <td>49.697490</td>\n",
       "    </tr>\n",
       "    <tr>\n",
       "      <th>min</th>\n",
       "      <td>0.000000</td>\n",
       "      <td>0.000000</td>\n",
       "    </tr>\n",
       "    <tr>\n",
       "      <th>25%</th>\n",
       "      <td>22.000000</td>\n",
       "      <td>7.900000</td>\n",
       "    </tr>\n",
       "    <tr>\n",
       "      <th>50%</th>\n",
       "      <td>29.000000</td>\n",
       "      <td>14.450000</td>\n",
       "    </tr>\n",
       "    <tr>\n",
       "      <th>75%</th>\n",
       "      <td>35.000000</td>\n",
       "      <td>31.000000</td>\n",
       "    </tr>\n",
       "    <tr>\n",
       "      <th>max</th>\n",
       "      <td>80.000000</td>\n",
       "      <td>512.330000</td>\n",
       "    </tr>\n",
       "  </tbody>\n",
       "</table>\n",
       "</div>"
      ],
      "text/plain": [
       "              age        fare\n",
       "count  889.000000  889.000000\n",
       "mean    29.498313   32.096839\n",
       "std     12.979638   49.697490\n",
       "min      0.000000    0.000000\n",
       "25%     22.000000    7.900000\n",
       "50%     29.000000   14.450000\n",
       "75%     35.000000   31.000000\n",
       "max     80.000000  512.330000"
      ]
     },
     "execution_count": 13,
     "metadata": {},
     "output_type": "execute_result"
    }
   ],
   "source": [
    "df[['age','fare']].describe()"
   ]
  },
  {
   "cell_type": "markdown",
   "id": "3038431e",
   "metadata": {},
   "source": [
    "### Data Visualization"
   ]
  },
  {
   "cell_type": "code",
   "execution_count": 14,
   "id": "76a85977",
   "metadata": {},
   "outputs": [
    {
     "data": {
      "image/png": "[encoded data removed]",
      "text/plain": [
       "<Figure size 600x400 with 1 Axes>"
      ]
     },
     "metadata": {},
     "output_type": "display_data"
    }
   ],
   "source": [
    "fig, ax = plt.subplots(figsize=(6,4))\n",
    "\n",
    "ax = df.groupby('sex').survived.mean().plot.bar(color=['#ffb703', '#fb8500']);\n",
    "ax.tick_params(axis=u'both', which='both',length=0)\n",
    "ax.set_title('Survival Rate Based on Gender', fontsize=12, weight='bold')\n",
    "\n",
    "plt.ylim([0,0.8])\n",
    "plt.xticks(rotation=45)\n",
    "plt.xlabel('Gender', weight='bold')\n",
    "\n",
    "sns.despine(top=True, right=True, left=True, bottom=True)\n",
    "plt.savefig('Survival Rate Based on Gender.png', dpi=150)"
   ]
  },
  {
   "cell_type": "code",
   "execution_count": 15,
   "id": "cc4617f8",
   "metadata": {},
   "outputs": [
    {
     "data": {
      "image/png": "[encoded data removed]",
      "text/plain": [
       "<Figure size 400x400 with 1 Axes>"
      ]
     },
     "metadata": {},
     "output_type": "display_data"
    }
   ],
   "source": [
    "labels = ['1st Class', '2nd Class', '3rd Class']\n",
    "explode = [0.1,0.1,0.1]\n",
    "\n",
    "fig, ax = plt.subplots(figsize=(4,4))\n",
    "\n",
    "ax = df.pclass.value_counts().plot(kind='pie', \n",
    "                                   labels = labels, \n",
    "                                   explode=explode, \n",
    "                                   startangle=120, \n",
    "                                   shadow=True, \n",
    "                                   autopct='%1.1f%%')\n",
    "ax.set_title('Passenger Traveling Class', \n",
    "             fontsize=12, \n",
    "             weight='bold', \n",
    "             y=1.1)\n",
    "ax.axis('equal');\n",
    "plt.savefig('Passenger Traveling Class.png', dpi=200)"
   ]
  },
  {
   "cell_type": "code",
   "execution_count": 16,
   "id": "489c64a2",
   "metadata": {},
   "outputs": [
    {
     "data": {
      "image/png": "[encoded data removed]",
      "text/plain": [
       "<Figure size 480x400 with 2 Axes>"
      ]
     },
     "metadata": {},
     "output_type": "display_data"
    }
   ],
   "source": [
    "g = sns.catplot(\n",
    "    data=df, x=\"pclass\", y=\"survived\", col=\"sex\",\n",
    "    kind=\"bar\", height=4, aspect=.6,\n",
    ")\n",
    "g.set_axis_labels(\"\", \"Survival Rate\")\n",
    "g.set_xticklabels([\"1st Class\", \"2nd Class\", \"3rd Class\"], rotation=45)\n",
    "g.set_titles(\"{col_name} {col_var}\")\n",
    "g.set(ylim=(0, 1))\n",
    "g.despine(left=True)\n",
    "g.fig.suptitle('Survival Rate Based on Traveling Class & Gender', \n",
    "               y=1.08, fontsize=12, weight='bold')\n",
    "\n",
    "plt.savefig('Survival Rate Based on Traveling Class & Gender.png', dpi=200)\n",
    "plt.show()"
   ]
  },
  {
   "cell_type": "code",
   "execution_count": 17,
   "id": "dc92936c",
   "metadata": {},
   "outputs": [
    {
     "data": {
      "text/plain": [
       "0    676\n",
       "1    118\n",
       "2     80\n",
       "5      5\n",
       "3      5\n",
       "4      4\n",
       "6      1\n",
       "Name: parch, dtype: int64"
      ]
     },
     "execution_count": 17,
     "metadata": {},
     "output_type": "execute_result"
    }
   ],
   "source": [
    "df.parch.value_counts()"
   ]
  },
  {
   "cell_type": "code",
   "execution_count": 18,
   "id": "de39836f",
   "metadata": {},
   "outputs": [
    {
     "data": {
      "image/png": "[encoded data removed]",
      "text/plain": [
       "<Figure size 800x400 with 2 Axes>"
      ]
     },
     "metadata": {},
     "output_type": "display_data"
    }
   ],
   "source": [
    "not_survived_parch = df['parch'][df['survived'] == 0]\n",
    "survived_parch = df['parch'][df['survived'] == 1]\n",
    "\n",
    "plt.figure(figsize=(8,4))\n",
    "\n",
    "plt.subplot(121)\n",
    "not_survived_parch.plot(kind='hist',title = \"People who didn't survive\", color='#264653', fontsize=6)\n",
    "\n",
    "plt.subplot(122)\n",
    "survived_parch.plot(kind='hist', title= 'People who survived', color='#2a9d8f', fontsize=6)\n",
    "\n",
    "sns.despine(top=True, right=True, left=True, bottom=True)\n",
    "plt.suptitle('Survival Rate Based on Family Relation', fontsize=12, weight='bold')\n",
    "plt.savefig('Survival Rate Based on Family Relation', dpi=150)\n",
    "plt.show()"
   ]
  },
  {
   "cell_type": "code",
   "execution_count": 19,
   "id": "a24e7e6a",
   "metadata": {},
   "outputs": [
    {
     "data": {
      "text/plain": [
       "passengerId    0.030842\n",
       "survived      -0.072695\n",
       "pclass        -0.331685\n",
       "age            1.000000\n",
       "sibsp         -0.231992\n",
       "parch         -0.175770\n",
       "fare           0.090883\n",
       "Name: age, dtype: float64"
      ]
     },
     "execution_count": 19,
     "metadata": {},
     "output_type": "execute_result"
    }
   ],
   "source": [
    "# Age comparison with other variables\n",
    "df.corr(numeric_only=True).age"
   ]
  },
  {
   "cell_type": "code",
   "execution_count": 20,
   "id": "49c0dbd2",
   "metadata": {},
   "outputs": [],
   "source": [
    "def titles(dfs):\n",
    "    dfs['title'] = dfs.name.str.extract(' ([A-Za-z]+)\\.', expand=False)\n",
    "    \n",
    "titles(df)"
   ]
  },
  {
   "cell_type": "code",
   "execution_count": 21,
   "id": "d0c41767",
   "metadata": {},
   "outputs": [
    {
     "data": {
      "text/plain": [
       "Mr          517\n",
       "Miss        181\n",
       "Mrs         124\n",
       "Master       40\n",
       "Dr            7\n",
       "Rev           6\n",
       "Mlle          2\n",
       "Major         2\n",
       "Col           2\n",
       "Countess      1\n",
       "Capt          1\n",
       "Ms            1\n",
       "Sir           1\n",
       "Lady          1\n",
       "Mme           1\n",
       "Don           1\n",
       "Jonkheer      1\n",
       "Name: title, dtype: int64"
      ]
     },
     "execution_count": 21,
     "metadata": {},
     "output_type": "execute_result"
    }
   ],
   "source": [
    "df['title'].value_counts()"
   ]
  },
  {
   "cell_type": "code",
   "execution_count": 22,
   "id": "8de7a049",
   "metadata": {},
   "outputs": [],
   "source": [
    "def titles_replace(dfs):\n",
    "    \n",
    "    # Values lower than 40 replacing with rare\n",
    "    dfs.title.replace(['Dr', 'Rev', 'Mlle', 'Major', \n",
    "                  'Col', 'Countess', 'Capt', 'Ms', \n",
    "                  'Sir', 'Lady', 'Mme', 'Don', \n",
    "                  'Jonkheer'], 'Rare', inplace=True)\n",
    "    dfs.title.replace('Ms','Miss', inplace=True)\n",
    "    dfs.title.replace('Mme','Mrs', inplace=True)\n",
    "    \n",
    "titles_replace(df)"
   ]
  },
  {
   "cell_type": "code",
   "execution_count": 23,
   "id": "c7c16320",
   "metadata": {},
   "outputs": [],
   "source": [
    "df['title'] = df['title'].astype('category')"
   ]
  },
  {
   "cell_type": "markdown",
   "id": "663a5850",
   "metadata": {},
   "source": [
    "### Feature Engineering"
   ]
  },
  {
   "cell_type": "code",
   "execution_count": 24,
   "id": "1e11e38b",
   "metadata": {},
   "outputs": [],
   "source": [
    "np.random.seed(42)\n",
    "\n",
    "# Split data into X and y\n",
    "X = df.drop(['name', 'survived', 'ticket', 'cabin'], axis=1)\n",
    "y = df.survived\n",
    "\n",
    "# Split the data into training & test sets\n",
    "X_train, X_test, y_train, y_test = train_test_split(X, y, test_size=0.2)"
   ]
  },
  {
   "cell_type": "code",
   "execution_count": 25,
   "id": "ff55b2ac",
   "metadata": {},
   "outputs": [
    {
     "data": {
      "text/html": [
       "<div>\n",
       "<style scoped>\n",
       "    .dataframe tbody tr th:only-of-type {\n",
       "        vertical-align: middle;\n",
       "    }\n",
       "\n",
       "    .dataframe tbody tr th {\n",
       "        vertical-align: top;\n",
       "    }\n",
       "\n",
       "    .dataframe thead th {\n",
       "        text-align: right;\n",
       "    }\n",
       "</style>\n",
       "<table border=\"1\" class=\"dataframe\">\n",
       "  <thead>\n",
       "    <tr style=\"text-align: right;\">\n",
       "      <th></th>\n",
       "      <th>passengerId</th>\n",
       "      <th>pclass</th>\n",
       "      <th>sex</th>\n",
       "      <th>age</th>\n",
       "      <th>sibsp</th>\n",
       "      <th>parch</th>\n",
       "      <th>fare</th>\n",
       "      <th>embarked</th>\n",
       "      <th>title</th>\n",
       "    </tr>\n",
       "  </thead>\n",
       "  <tbody>\n",
       "    <tr>\n",
       "      <th>0</th>\n",
       "      <td>1</td>\n",
       "      <td>3</td>\n",
       "      <td>male</td>\n",
       "      <td>22</td>\n",
       "      <td>1</td>\n",
       "      <td>0</td>\n",
       "      <td>7.25</td>\n",
       "      <td>S</td>\n",
       "      <td>Mr</td>\n",
       "    </tr>\n",
       "    <tr>\n",
       "      <th>1</th>\n",
       "      <td>2</td>\n",
       "      <td>1</td>\n",
       "      <td>female</td>\n",
       "      <td>38</td>\n",
       "      <td>1</td>\n",
       "      <td>0</td>\n",
       "      <td>71.28</td>\n",
       "      <td>C</td>\n",
       "      <td>Mrs</td>\n",
       "    </tr>\n",
       "    <tr>\n",
       "      <th>2</th>\n",
       "      <td>3</td>\n",
       "      <td>3</td>\n",
       "      <td>female</td>\n",
       "      <td>26</td>\n",
       "      <td>0</td>\n",
       "      <td>0</td>\n",
       "      <td>7.92</td>\n",
       "      <td>S</td>\n",
       "      <td>Miss</td>\n",
       "    </tr>\n",
       "    <tr>\n",
       "      <th>3</th>\n",
       "      <td>4</td>\n",
       "      <td>1</td>\n",
       "      <td>female</td>\n",
       "      <td>35</td>\n",
       "      <td>1</td>\n",
       "      <td>0</td>\n",
       "      <td>53.10</td>\n",
       "      <td>S</td>\n",
       "      <td>Mrs</td>\n",
       "    </tr>\n",
       "    <tr>\n",
       "      <th>4</th>\n",
       "      <td>5</td>\n",
       "      <td>3</td>\n",
       "      <td>male</td>\n",
       "      <td>35</td>\n",
       "      <td>0</td>\n",
       "      <td>0</td>\n",
       "      <td>8.05</td>\n",
       "      <td>S</td>\n",
       "      <td>Mr</td>\n",
       "    </tr>\n",
       "  </tbody>\n",
       "</table>\n",
       "</div>"
      ],
      "text/plain": [
       "   passengerId  pclass     sex  age  sibsp  parch   fare embarked title\n",
       "0            1       3    male   22      1      0   7.25        S    Mr\n",
       "1            2       1  female   38      1      0  71.28        C   Mrs\n",
       "2            3       3  female   26      0      0   7.92        S  Miss\n",
       "3            4       1  female   35      1      0  53.10        S   Mrs\n",
       "4            5       3    male   35      0      0   8.05        S    Mr"
      ]
     },
     "execution_count": 25,
     "metadata": {},
     "output_type": "execute_result"
    }
   ],
   "source": [
    "X.head()"
   ]
  },
  {
   "cell_type": "markdown",
   "id": "7a21f902",
   "metadata": {},
   "source": [
    "### Converting Data to Numbers "
   ]
  },
  {
   "cell_type": "code",
   "execution_count": 26,
   "id": "fff917e4",
   "metadata": {},
   "outputs": [
    {
     "data": {
      "text/plain": [
       "array([[ 0.  ,  1.  ,  0.  , ...,  1.  ,  0.  ,  7.25],\n",
       "       [ 1.  ,  0.  ,  1.  , ...,  1.  ,  0.  , 71.28],\n",
       "       [ 1.  ,  0.  ,  0.  , ...,  0.  ,  0.  ,  7.92],\n",
       "       ...,\n",
       "       [ 1.  ,  0.  ,  0.  , ...,  1.  ,  2.  , 23.45],\n",
       "       [ 0.  ,  1.  ,  1.  , ...,  0.  ,  0.  , 30.  ],\n",
       "       [ 0.  ,  1.  ,  0.  , ...,  0.  ,  0.  ,  7.75]])"
      ]
     },
     "execution_count": 26,
     "metadata": {},
     "output_type": "execute_result"
    }
   ],
   "source": [
    "cat_features = ['sex', 'embarked', 'title']\n",
    "\n",
    "one_hot = OneHotEncoder()\n",
    "transformer = ColumnTransformer([('one_hot', one_hot, cat_features)], \n",
    "                                remainder='passthrough')\n",
    "\n",
    "transformed_X = transformer.fit_transform(X)\n",
    "transformed_X"
   ]
  },
  {
   "cell_type": "code",
   "execution_count": 27,
   "id": "1ab39ec6",
   "metadata": {},
   "outputs": [
    {
     "data": {
      "text/html": [
       "<div>\n",
       "<style scoped>\n",
       "    .dataframe tbody tr th:only-of-type {\n",
       "        vertical-align: middle;\n",
       "    }\n",
       "\n",
       "    .dataframe tbody tr th {\n",
       "        vertical-align: top;\n",
       "    }\n",
       "\n",
       "    .dataframe thead th {\n",
       "        text-align: right;\n",
       "    }\n",
       "</style>\n",
       "<table border=\"1\" class=\"dataframe\">\n",
       "  <thead>\n",
       "    <tr style=\"text-align: right;\">\n",
       "      <th></th>\n",
       "      <th>0</th>\n",
       "      <th>1</th>\n",
       "      <th>2</th>\n",
       "      <th>3</th>\n",
       "      <th>4</th>\n",
       "      <th>5</th>\n",
       "      <th>6</th>\n",
       "      <th>7</th>\n",
       "      <th>8</th>\n",
       "      <th>9</th>\n",
       "      <th>10</th>\n",
       "      <th>11</th>\n",
       "      <th>12</th>\n",
       "      <th>13</th>\n",
       "      <th>14</th>\n",
       "      <th>15</th>\n",
       "    </tr>\n",
       "  </thead>\n",
       "  <tbody>\n",
       "    <tr>\n",
       "      <th>0</th>\n",
       "      <td>0.0</td>\n",
       "      <td>1.0</td>\n",
       "      <td>0.0</td>\n",
       "      <td>0.0</td>\n",
       "      <td>1.0</td>\n",
       "      <td>0.0</td>\n",
       "      <td>0.0</td>\n",
       "      <td>1.0</td>\n",
       "      <td>0.0</td>\n",
       "      <td>0.0</td>\n",
       "      <td>1.0</td>\n",
       "      <td>3.0</td>\n",
       "      <td>22.0</td>\n",
       "      <td>1.0</td>\n",
       "      <td>0.0</td>\n",
       "      <td>7.25</td>\n",
       "    </tr>\n",
       "    <tr>\n",
       "      <th>1</th>\n",
       "      <td>1.0</td>\n",
       "      <td>0.0</td>\n",
       "      <td>1.0</td>\n",
       "      <td>0.0</td>\n",
       "      <td>0.0</td>\n",
       "      <td>0.0</td>\n",
       "      <td>0.0</td>\n",
       "      <td>0.0</td>\n",
       "      <td>1.0</td>\n",
       "      <td>0.0</td>\n",
       "      <td>2.0</td>\n",
       "      <td>1.0</td>\n",
       "      <td>38.0</td>\n",
       "      <td>1.0</td>\n",
       "      <td>0.0</td>\n",
       "      <td>71.28</td>\n",
       "    </tr>\n",
       "    <tr>\n",
       "      <th>2</th>\n",
       "      <td>1.0</td>\n",
       "      <td>0.0</td>\n",
       "      <td>0.0</td>\n",
       "      <td>0.0</td>\n",
       "      <td>1.0</td>\n",
       "      <td>0.0</td>\n",
       "      <td>1.0</td>\n",
       "      <td>0.0</td>\n",
       "      <td>0.0</td>\n",
       "      <td>0.0</td>\n",
       "      <td>3.0</td>\n",
       "      <td>3.0</td>\n",
       "      <td>26.0</td>\n",
       "      <td>0.0</td>\n",
       "      <td>0.0</td>\n",
       "      <td>7.92</td>\n",
       "    </tr>\n",
       "    <tr>\n",
       "      <th>3</th>\n",
       "      <td>1.0</td>\n",
       "      <td>0.0</td>\n",
       "      <td>0.0</td>\n",
       "      <td>0.0</td>\n",
       "      <td>1.0</td>\n",
       "      <td>0.0</td>\n",
       "      <td>0.0</td>\n",
       "      <td>0.0</td>\n",
       "      <td>1.0</td>\n",
       "      <td>0.0</td>\n",
       "      <td>4.0</td>\n",
       "      <td>1.0</td>\n",
       "      <td>35.0</td>\n",
       "      <td>1.0</td>\n",
       "      <td>0.0</td>\n",
       "      <td>53.10</td>\n",
       "    </tr>\n",
       "    <tr>\n",
       "      <th>4</th>\n",
       "      <td>0.0</td>\n",
       "      <td>1.0</td>\n",
       "      <td>0.0</td>\n",
       "      <td>0.0</td>\n",
       "      <td>1.0</td>\n",
       "      <td>0.0</td>\n",
       "      <td>0.0</td>\n",
       "      <td>1.0</td>\n",
       "      <td>0.0</td>\n",
       "      <td>0.0</td>\n",
       "      <td>5.0</td>\n",
       "      <td>3.0</td>\n",
       "      <td>35.0</td>\n",
       "      <td>0.0</td>\n",
       "      <td>0.0</td>\n",
       "      <td>8.05</td>\n",
       "    </tr>\n",
       "    <tr>\n",
       "      <th>...</th>\n",
       "      <td>...</td>\n",
       "      <td>...</td>\n",
       "      <td>...</td>\n",
       "      <td>...</td>\n",
       "      <td>...</td>\n",
       "      <td>...</td>\n",
       "      <td>...</td>\n",
       "      <td>...</td>\n",
       "      <td>...</td>\n",
       "      <td>...</td>\n",
       "      <td>...</td>\n",
       "      <td>...</td>\n",
       "      <td>...</td>\n",
       "      <td>...</td>\n",
       "      <td>...</td>\n",
       "      <td>...</td>\n",
       "    </tr>\n",
       "    <tr>\n",
       "      <th>884</th>\n",
       "      <td>0.0</td>\n",
       "      <td>1.0</td>\n",
       "      <td>0.0</td>\n",
       "      <td>0.0</td>\n",
       "      <td>1.0</td>\n",
       "      <td>0.0</td>\n",
       "      <td>0.0</td>\n",
       "      <td>0.0</td>\n",
       "      <td>0.0</td>\n",
       "      <td>1.0</td>\n",
       "      <td>887.0</td>\n",
       "      <td>2.0</td>\n",
       "      <td>27.0</td>\n",
       "      <td>0.0</td>\n",
       "      <td>0.0</td>\n",
       "      <td>13.00</td>\n",
       "    </tr>\n",
       "    <tr>\n",
       "      <th>885</th>\n",
       "      <td>1.0</td>\n",
       "      <td>0.0</td>\n",
       "      <td>0.0</td>\n",
       "      <td>0.0</td>\n",
       "      <td>1.0</td>\n",
       "      <td>0.0</td>\n",
       "      <td>1.0</td>\n",
       "      <td>0.0</td>\n",
       "      <td>0.0</td>\n",
       "      <td>0.0</td>\n",
       "      <td>888.0</td>\n",
       "      <td>1.0</td>\n",
       "      <td>19.0</td>\n",
       "      <td>0.0</td>\n",
       "      <td>0.0</td>\n",
       "      <td>30.00</td>\n",
       "    </tr>\n",
       "    <tr>\n",
       "      <th>886</th>\n",
       "      <td>1.0</td>\n",
       "      <td>0.0</td>\n",
       "      <td>0.0</td>\n",
       "      <td>0.0</td>\n",
       "      <td>1.0</td>\n",
       "      <td>0.0</td>\n",
       "      <td>1.0</td>\n",
       "      <td>0.0</td>\n",
       "      <td>0.0</td>\n",
       "      <td>0.0</td>\n",
       "      <td>889.0</td>\n",
       "      <td>3.0</td>\n",
       "      <td>29.0</td>\n",
       "      <td>1.0</td>\n",
       "      <td>2.0</td>\n",
       "      <td>23.45</td>\n",
       "    </tr>\n",
       "    <tr>\n",
       "      <th>887</th>\n",
       "      <td>0.0</td>\n",
       "      <td>1.0</td>\n",
       "      <td>1.0</td>\n",
       "      <td>0.0</td>\n",
       "      <td>0.0</td>\n",
       "      <td>0.0</td>\n",
       "      <td>0.0</td>\n",
       "      <td>1.0</td>\n",
       "      <td>0.0</td>\n",
       "      <td>0.0</td>\n",
       "      <td>890.0</td>\n",
       "      <td>1.0</td>\n",
       "      <td>26.0</td>\n",
       "      <td>0.0</td>\n",
       "      <td>0.0</td>\n",
       "      <td>30.00</td>\n",
       "    </tr>\n",
       "    <tr>\n",
       "      <th>888</th>\n",
       "      <td>0.0</td>\n",
       "      <td>1.0</td>\n",
       "      <td>0.0</td>\n",
       "      <td>1.0</td>\n",
       "      <td>0.0</td>\n",
       "      <td>0.0</td>\n",
       "      <td>0.0</td>\n",
       "      <td>1.0</td>\n",
       "      <td>0.0</td>\n",
       "      <td>0.0</td>\n",
       "      <td>891.0</td>\n",
       "      <td>3.0</td>\n",
       "      <td>32.0</td>\n",
       "      <td>0.0</td>\n",
       "      <td>0.0</td>\n",
       "      <td>7.75</td>\n",
       "    </tr>\n",
       "  </tbody>\n",
       "</table>\n",
       "<p>889 rows × 16 columns</p>\n",
       "</div>"
      ],
      "text/plain": [
       "      0    1    2    3    4    5    6    7    8    9      10   11    12   13  \\\n",
       "0    0.0  1.0  0.0  0.0  1.0  0.0  0.0  1.0  0.0  0.0    1.0  3.0  22.0  1.0   \n",
       "1    1.0  0.0  1.0  0.0  0.0  0.0  0.0  0.0  1.0  0.0    2.0  1.0  38.0  1.0   \n",
       "2    1.0  0.0  0.0  0.0  1.0  0.0  1.0  0.0  0.0  0.0    3.0  3.0  26.0  0.0   \n",
       "3    1.0  0.0  0.0  0.0  1.0  0.0  0.0  0.0  1.0  0.0    4.0  1.0  35.0  1.0   \n",
       "4    0.0  1.0  0.0  0.0  1.0  0.0  0.0  1.0  0.0  0.0    5.0  3.0  35.0  0.0   \n",
       "..   ...  ...  ...  ...  ...  ...  ...  ...  ...  ...    ...  ...   ...  ...   \n",
       "884  0.0  1.0  0.0  0.0  1.0  0.0  0.0  0.0  0.0  1.0  887.0  2.0  27.0  0.0   \n",
       "885  1.0  0.0  0.0  0.0  1.0  0.0  1.0  0.0  0.0  0.0  888.0  1.0  19.0  0.0   \n",
       "886  1.0  0.0  0.0  0.0  1.0  0.0  1.0  0.0  0.0  0.0  889.0  3.0  29.0  1.0   \n",
       "887  0.0  1.0  1.0  0.0  0.0  0.0  0.0  1.0  0.0  0.0  890.0  1.0  26.0  0.0   \n",
       "888  0.0  1.0  0.0  1.0  0.0  0.0  0.0  1.0  0.0  0.0  891.0  3.0  32.0  0.0   \n",
       "\n",
       "      14     15  \n",
       "0    0.0   7.25  \n",
       "1    0.0  71.28  \n",
       "2    0.0   7.92  \n",
       "3    0.0  53.10  \n",
       "4    0.0   8.05  \n",
       "..   ...    ...  \n",
       "884  0.0  13.00  \n",
       "885  0.0  30.00  \n",
       "886  2.0  23.45  \n",
       "887  0.0  30.00  \n",
       "888  0.0   7.75  \n",
       "\n",
       "[889 rows x 16 columns]"
      ]
     },
     "execution_count": 27,
     "metadata": {},
     "output_type": "execute_result"
    }
   ],
   "source": [
    "pd.DataFrame(transformed_X)"
   ]
  },
  {
   "cell_type": "code",
   "execution_count": 28,
   "id": "b154eb4d",
   "metadata": {},
   "outputs": [],
   "source": [
    "np.random.seed(42)\n",
    "\n",
    "# Split data into X and y\n",
    "X = df.drop(['name', 'survived', 'ticket', 'cabin'], axis=1)\n",
    "y = df.survived\n",
    "\n",
    "# Split the data into training & test sets\n",
    "X_train, X_test, y_train, y_test = train_test_split(transformed_X, y, test_size=0.2)"
   ]
  },
  {
   "cell_type": "code",
   "execution_count": 29,
   "id": "579ca74b",
   "metadata": {},
   "outputs": [
    {
     "data": {
      "text/plain": [
       "((711, 16), (178, 16), (711,), (178,))"
      ]
     },
     "execution_count": 29,
     "metadata": {},
     "output_type": "execute_result"
    }
   ],
   "source": [
    "X_train.shape, X_test.shape, y_train.shape, y_test.shape"
   ]
  },
  {
   "cell_type": "code",
   "execution_count": 30,
   "id": "de21f583",
   "metadata": {},
   "outputs": [],
   "source": [
    "# Put models in a dictionary\n",
    "models = {'Logistic Regression': LogisticRegression(), \n",
    "          'KNN': KNeighborsClassifier(), \n",
    "          'Random Forest Classifier': RandomForestClassifier(), \n",
    "          'Decision Tree Classifier': DecisionTreeClassifier()}\n",
    "\n",
    "# Creating a function to fit & score models\n",
    "def fit_and_score(models, X_train, X_test, y_train, y_test):\n",
    "    \"\"\"\n",
    "    Fit & Evaluate given ML models.\n",
    "    models: a dict of different sklearn ML models.\n",
    "    \"\"\"\n",
    "    # Set random seed\n",
    "    np.random.seed(42)\n",
    "    # Make a dict to keep model scores\n",
    "    model_scores = {}\n",
    "    # Loop through the models\n",
    "    for name, model in models.items():\n",
    "        # Fit the model to the data\n",
    "        model.fit(X_train, y_train)\n",
    "        # Evaluate the model & append its score to model_scores\n",
    "        model_scores[name] = model.score(X_test, y_test)\n",
    "    return model_scores"
   ]
  },
  {
   "cell_type": "code",
   "execution_count": 31,
   "id": "0451b765",
   "metadata": {},
   "outputs": [
    {
     "data": {
      "text/plain": [
       "{'Logistic Regression': 0.7921348314606742,\n",
       " 'KNN': 0.6179775280898876,\n",
       " 'Random Forest Classifier': 0.8033707865168539,\n",
       " 'Decision Tree Classifier': 0.7528089887640449}"
      ]
     },
     "execution_count": 31,
     "metadata": {},
     "output_type": "execute_result"
    }
   ],
   "source": [
    "model_scores = fit_and_score(models = models, \n",
    "                             X_train = X_train, \n",
    "                             X_test = X_test, \n",
    "                             y_train = y_train, \n",
    "                             y_test = y_test)\n",
    "model_scores"
   ]
  },
  {
   "cell_type": "markdown",
   "id": "91b5babb",
   "metadata": {},
   "source": [
    "### Model Comparison"
   ]
  },
  {
   "cell_type": "code",
   "execution_count": 32,
   "id": "1dd66242",
   "metadata": {},
   "outputs": [
    {
     "data": {
      "image/png": "[encoded data removed]",
      "text/plain": [
       "<Figure size 640x480 with 1 Axes>"
      ]
     },
     "metadata": {},
     "output_type": "display_data"
    }
   ],
   "source": [
    "model_comp = pd.DataFrame(model_scores, index=['accuracy'])\n",
    "model_comp.T.plot.bar();\n",
    "plt.savefig('Model Selection', dpi=150)"
   ]
  },
  {
   "cell_type": "markdown",
   "id": "cb4a1792",
   "metadata": {},
   "source": [
    "### Tuning Hyperparameters with RandomizedSearchCV\n",
    "* Logistic Regression\n",
    "* Random Forest Classifier"
   ]
  },
  {
   "cell_type": "code",
   "execution_count": 33,
   "id": "9b56a757",
   "metadata": {},
   "outputs": [],
   "source": [
    "# Create hyperparameter grid for logistic regression\n",
    "log_reg_grid = {'C': np.logspace(-4,4,20), \n",
    "                'solver': ['liblinear']}\n",
    "\n",
    "# Create hyperparameter grid for random forest classifier\n",
    "rf_grid = {'n_estimators': np.arange(10,1000,50), \n",
    "           'criterion': ['gini', 'entropy'],\n",
    "           'max_depth': range(2,20,1), \n",
    "           'min_samples_split': np.arange(2,20,2), \n",
    "           'min_samples_leaf': np.arange(2,20,2)}"
   ]
  },
  {
   "cell_type": "markdown",
   "id": "bfdb0495",
   "metadata": {},
   "source": [
    "#### Tuning Hyperparameters for Logistic Regression"
   ]
  },
  {
   "cell_type": "code",
   "execution_count": 34,
   "id": "709f66fb",
   "metadata": {},
   "outputs": [
    {
     "name": "stdout",
     "output_type": "stream",
     "text": [
      "Fitting 5 folds for each of 20 candidates, totalling 100 fits\n"
     ]
    }
   ],
   "source": [
    "np.random.seed(42)\n",
    "\n",
    "# Setup random hyperparameter search for logistic regression\n",
    "rs_log_reg = RandomizedSearchCV(LogisticRegression(), \n",
    "                                param_distributions=log_reg_grid, \n",
    "                                cv=5, \n",
    "                                n_iter=20, \n",
    "                                verbose=True)\n",
    "\n",
    "# Fit model for logistic regression \n",
    "rs_log_reg.fit(X_train, y_train);"
   ]
  },
  {
   "cell_type": "code",
   "execution_count": 35,
   "id": "4f2b88eb",
   "metadata": {},
   "outputs": [
    {
     "data": {
      "text/plain": [
       "{'solver': 'liblinear', 'C': 0.615848211066026}"
      ]
     },
     "execution_count": 35,
     "metadata": {},
     "output_type": "execute_result"
    }
   ],
   "source": [
    "# Best hyperparameters for logistic regression\n",
    "rs_log_reg.best_params_"
   ]
  },
  {
   "cell_type": "code",
   "execution_count": 36,
   "id": "cd5dbbbd",
   "metadata": {},
   "outputs": [
    {
     "name": "stdout",
     "output_type": "stream",
     "text": [
      "Logistic regression before tuning result 79.21%.\n",
      "Result after tuning 81.46%.\n"
     ]
    }
   ],
   "source": [
    "# For testing purpose not test_df\n",
    "print(f'Logistic regression before tuning result 79.21%.\\nResult after tuning {rs_log_reg.score(X_test, y_test)*100:.2f}%.')"
   ]
  },
  {
   "cell_type": "markdown",
   "id": "f7d3a290",
   "metadata": {},
   "source": [
    "#### Tuning Hyperparameters for Random Forest Classifier"
   ]
  },
  {
   "cell_type": "code",
   "execution_count": 37,
   "id": "69a933da",
   "metadata": {},
   "outputs": [
    {
     "name": "stdout",
     "output_type": "stream",
     "text": [
      "Fitting 5 folds for each of 20 candidates, totalling 100 fits\n"
     ]
    }
   ],
   "source": [
    "np.random.seed(42)\n",
    "\n",
    "# Setup random hyperparameter search for logistic regression\n",
    "rs_rf_grid = RandomizedSearchCV(RandomForestClassifier(), \n",
    "                                param_distributions=rf_grid, \n",
    "                                cv=5, \n",
    "                                n_iter=20, \n",
    "                                verbose=True)\n",
    "\n",
    "# Fit model for logistic regression \n",
    "rs_rf_grid.fit(X_train, y_train);"
   ]
  },
  {
   "cell_type": "code",
   "execution_count": 38,
   "id": "0cf6c3f5",
   "metadata": {},
   "outputs": [
    {
     "data": {
      "text/plain": [
       "{'n_estimators': 560,\n",
       " 'min_samples_split': 4,\n",
       " 'min_samples_leaf': 4,\n",
       " 'max_depth': 13,\n",
       " 'criterion': 'entropy'}"
      ]
     },
     "execution_count": 38,
     "metadata": {},
     "output_type": "execute_result"
    }
   ],
   "source": [
    "# Best hyperparameters for random forest classifier\n",
    "rs_rf_grid.best_params_"
   ]
  },
  {
   "cell_type": "code",
   "execution_count": 39,
   "id": "e0460ef3",
   "metadata": {},
   "outputs": [
    {
     "name": "stdout",
     "output_type": "stream",
     "text": [
      "Random forest classifier before tuning result 80.33%.\n",
      "Result after tuning 80.34%.\n"
     ]
    }
   ],
   "source": [
    "# For testing purpose not test_df\n",
    "print(f'Random forest classifier before tuning result 80.33%.\\nResult after tuning {rs_rf_grid.score(X_test, y_test)*100:.2f}%.')"
   ]
  },
  {
   "cell_type": "markdown",
   "id": "ac184e60",
   "metadata": {},
   "source": [
    "### Tuning Hyperparameters with GridSearchCV\n",
    "* Logistic Regression"
   ]
  },
  {
   "cell_type": "code",
   "execution_count": 40,
   "id": "0d3147e4",
   "metadata": {},
   "outputs": [
    {
     "name": "stdout",
     "output_type": "stream",
     "text": [
      "Fitting 5 folds for each of 30 candidates, totalling 150 fits\n"
     ]
    }
   ],
   "source": [
    "# Create hyperparameter grid for logistic regression\n",
    "log_reg_grid = {'C': np.logspace(-4,4,30), \n",
    "                'solver': ['liblinear']}\n",
    "\n",
    "np.random.seed(42)\n",
    "\n",
    "# Setup random hyperparameter search for logistic regression\n",
    "gs_log_reg = GridSearchCV(LogisticRegression(), \n",
    "                          param_grid=log_reg_grid, \n",
    "                          cv=5,  \n",
    "                          verbose=True)\n",
    "\n",
    "# Fit model for logistic regression \n",
    "gs_log_reg.fit(X_train, y_train);"
   ]
  },
  {
   "cell_type": "code",
   "execution_count": 41,
   "id": "5bdf0c26",
   "metadata": {},
   "outputs": [
    {
     "data": {
      "text/plain": [
       "{'C': 0.7278953843983146, 'solver': 'liblinear'}"
      ]
     },
     "execution_count": 41,
     "metadata": {},
     "output_type": "execute_result"
    }
   ],
   "source": [
    "# Best hyperparameters for logistic regression\n",
    "gs_log_reg.best_params_"
   ]
  },
  {
   "cell_type": "code",
   "execution_count": 42,
   "id": "7a342bc2",
   "metadata": {},
   "outputs": [
    {
     "data": {
      "text/plain": [
       "0.8146067415730337"
      ]
     },
     "execution_count": 42,
     "metadata": {},
     "output_type": "execute_result"
    }
   ],
   "source": [
    "gs_log_reg.score(X_test, y_test)"
   ]
  },
  {
   "cell_type": "markdown",
   "id": "bf8fbd02",
   "metadata": {},
   "source": [
    "### Test Dataset "
   ]
  },
  {
   "cell_type": "code",
   "execution_count": 43,
   "id": "6e67fd43",
   "metadata": {},
   "outputs": [],
   "source": [
    "# test_df"
   ]
  },
  {
   "cell_type": "code",
   "execution_count": 44,
   "id": "f0fab1a9",
   "metadata": {},
   "outputs": [],
   "source": [
    "# X.head()"
   ]
  },
  {
   "cell_type": "code",
   "execution_count": 45,
   "id": "55a0095a",
   "metadata": {},
   "outputs": [],
   "source": [
    "# col_names(test_df)\n",
    "# two_digit(test_df)\n",
    "# cat_type(test_df)\n",
    "# titles(test_df)\n",
    "# titles_replace(test_df)\n",
    "# fill_missing_val(test_df)"
   ]
  },
  {
   "cell_type": "code",
   "execution_count": 46,
   "id": "42565b81",
   "metadata": {},
   "outputs": [],
   "source": [
    "# test_df['title'] = test_df.title.astype('category')\n",
    "# test_df = test_df.apply(lambda x: x.fillna(x.value_counts().index[0]))"
   ]
  },
  {
   "cell_type": "code",
   "execution_count": 47,
   "id": "df33b56b",
   "metadata": {},
   "outputs": [],
   "source": [
    "# test_df.head(3)"
   ]
  },
  {
   "cell_type": "code",
   "execution_count": 48,
   "id": "057c5ebd",
   "metadata": {},
   "outputs": [],
   "source": [
    "# test_df.info()"
   ]
  },
  {
   "cell_type": "markdown",
   "id": "70aadce6",
   "metadata": {},
   "source": [
    "### Evaluating Our Tuned Logistic Regression Model\n",
    "* ROC Curve & AUC Score\n",
    "* Confusion Matrix\n",
    "* Classification Report\n",
    "* Precision\n",
    "* Recall\n",
    "* F1 Score\n",
    "* Cross Validation"
   ]
  },
  {
   "cell_type": "code",
   "execution_count": 49,
   "id": "502fe350",
   "metadata": {},
   "outputs": [
    {
     "data": {
      "text/plain": [
       "array([0, 1, 1, 0, 1, 0, 0, 0, 1, 1, 0, 1, 0, 0, 0, 0, 0, 0, 0, 0, 0, 1,\n",
       "       0, 0, 0, 1, 0, 1, 0, 0, 0, 1, 0, 0, 0, 0, 1, 1, 0, 0, 0, 1, 0, 0,\n",
       "       0, 0, 1, 0, 0, 1, 1, 1, 0, 0, 1, 1, 1, 0, 0, 0, 0, 1, 1, 0, 1, 0,\n",
       "       0, 0, 1, 1, 0, 1, 1, 0, 1, 1, 0, 0, 1, 0, 1, 1, 1, 1, 0, 0, 0, 0,\n",
       "       0, 0, 0, 1, 0, 0, 0, 1, 0, 0, 1, 0, 0, 1, 0, 0, 0, 0, 1, 1, 0, 0,\n",
       "       0, 0, 0, 1, 0, 0, 0, 0, 1, 0, 1, 1, 0, 0, 1, 1, 0, 1, 1, 0, 1, 0,\n",
       "       0, 0, 1, 1, 0, 1, 1, 1, 1, 0, 1, 0, 1, 0, 0, 1, 0, 1, 0, 1, 0, 1,\n",
       "       0, 1, 0, 0, 0, 1, 0, 1, 0, 0, 0, 1, 1, 0, 0, 1, 1, 1, 1, 0, 1, 0,\n",
       "       0, 1])"
      ]
     },
     "execution_count": 49,
     "metadata": {},
     "output_type": "execute_result"
    }
   ],
   "source": [
    "# Making prediction to tuned Model\n",
    "y_preds = gs_log_reg.predict(X_test)\n",
    "y_preds"
   ]
  },
  {
   "cell_type": "code",
   "execution_count": 50,
   "id": "df5bba6f",
   "metadata": {},
   "outputs": [
    {
     "data": {
      "text/plain": [
       "281    0\n",
       "435    1\n",
       "39     1\n",
       "418    0\n",
       "585    1\n",
       "      ..\n",
       "433    0\n",
       "807    0\n",
       "25     1\n",
       "85     1\n",
       "10     1\n",
       "Name: survived, Length: 178, dtype: int64"
      ]
     },
     "execution_count": 50,
     "metadata": {},
     "output_type": "execute_result"
    }
   ],
   "source": [
    "y_test"
   ]
  },
  {
   "cell_type": "markdown",
   "id": "4ff75452",
   "metadata": {},
   "source": [
    "#### ROC Curve & AUC Score"
   ]
  },
  {
   "cell_type": "code",
   "execution_count": 62,
   "id": "42d88393",
   "metadata": {},
   "outputs": [
    {
     "data": {
      "image/png": "[encoded data removed]",
      "text/plain": [
       "<Figure size 640x480 with 1 Axes>"
      ]
     },
     "metadata": {},
     "output_type": "display_data"
    }
   ],
   "source": [
    "plot_roc_curve(gs_log_reg, X_test, y_test);\n",
    "plt.savefig('ROC Curve.png', dpi=150)"
   ]
  },
  {
   "cell_type": "markdown",
   "id": "53a783fc",
   "metadata": {},
   "source": [
    "#### Confusion Matrix"
   ]
  },
  {
   "cell_type": "code",
   "execution_count": 52,
   "id": "e8f98be3",
   "metadata": {},
   "outputs": [
    {
     "data": {
      "text/plain": [
       "array([[91, 18],\n",
       "       [15, 54]])"
      ]
     },
     "execution_count": 52,
     "metadata": {},
     "output_type": "execute_result"
    }
   ],
   "source": [
    "confusion_matrix(y_test, y_preds)"
   ]
  },
  {
   "cell_type": "code",
   "execution_count": 53,
   "id": "002a5343",
   "metadata": {},
   "outputs": [
    {
     "data": {
      "image/png": "[encoded data removed]",
      "text/plain": [
       "<Figure size 300x300 with 1 Axes>"
      ]
     },
     "metadata": {},
     "output_type": "display_data"
    }
   ],
   "source": [
    "# Better Representation\n",
    "sns.set(font_scale=1.25)\n",
    "\n",
    "def plot_conf_matrix(y_test, y_preds):\n",
    "    \"\"\"\n",
    "    Plots a confusion matrix using seaborn's heatmap.\n",
    "    \"\"\"\n",
    "    fig, ax = plt.subplots(figsize=(3,3))\n",
    "    \n",
    "    ax = sns.heatmap(confusion_matrix(y_test, y_preds), \n",
    "                     annot=True, cbar=False)\n",
    "    \n",
    "    plt.xlabel('True Labels')\n",
    "    plt.ylabel('Predicted Labels')\n",
    "    plt.savefig('Confusion Matrix.png', dpi = 150)\n",
    "    \n",
    "plot_conf_matrix(y_test, y_preds)"
   ]
  },
  {
   "cell_type": "markdown",
   "id": "51c559c2",
   "metadata": {},
   "source": [
    "#### Classification Report"
   ]
  },
  {
   "cell_type": "code",
   "execution_count": 54,
   "id": "98b3ac8e",
   "metadata": {},
   "outputs": [
    {
     "name": "stdout",
     "output_type": "stream",
     "text": [
      "              precision    recall  f1-score   support\n",
      "\n",
      "           0       0.86      0.83      0.85       109\n",
      "           1       0.75      0.78      0.77        69\n",
      "\n",
      "    accuracy                           0.81       178\n",
      "   macro avg       0.80      0.81      0.81       178\n",
      "weighted avg       0.82      0.81      0.82       178\n",
      "\n"
     ]
    }
   ],
   "source": [
    "print(classification_report(y_test, y_preds))"
   ]
  },
  {
   "cell_type": "markdown",
   "id": "f89ffdc0",
   "metadata": {},
   "source": [
    "#### Cross Validation"
   ]
  },
  {
   "cell_type": "code",
   "execution_count": 55,
   "id": "b44bd846",
   "metadata": {},
   "outputs": [
    {
     "data": {
      "text/plain": [
       "{'C': 0.7278953843983146, 'solver': 'liblinear'}"
      ]
     },
     "execution_count": 55,
     "metadata": {},
     "output_type": "execute_result"
    }
   ],
   "source": [
    "gs_log_reg.best_params_"
   ]
  },
  {
   "cell_type": "code",
   "execution_count": 56,
   "id": "eca6d3b2",
   "metadata": {},
   "outputs": [],
   "source": [
    "clf = LogisticRegression(C = 0.7278953843983146, \n",
    "                         solver = 'liblinear')"
   ]
  },
  {
   "cell_type": "code",
   "execution_count": 57,
   "id": "f930dbc2",
   "metadata": {},
   "outputs": [
    {
     "name": "stdout",
     "output_type": "stream",
     "text": [
      "Cross Validated Accuracy: 82.23%\n"
     ]
    }
   ],
   "source": [
    "# Cross Validation Accuracy\n",
    "cv_acc = cross_val_score(clf, transformed_X, y, cv=5, scoring='accuracy')\n",
    "cv_acc_mean = np.mean(cv_acc)\n",
    "print(f'Cross Validated Accuracy: {cv_acc_mean*100:.2f}%')"
   ]
  },
  {
   "cell_type": "code",
   "execution_count": 58,
   "id": "da92fe56",
   "metadata": {},
   "outputs": [
    {
     "name": "stdout",
     "output_type": "stream",
     "text": [
      "Cross Validated Precision: 78.44%\n"
     ]
    }
   ],
   "source": [
    "# Cross Validation Precision\n",
    "cv_pre = cross_val_score(clf, transformed_X, y, cv=5, scoring='precision')\n",
    "cv_pre_mean = np.mean(cv_pre)\n",
    "print(f'Cross Validated Precision: {cv_pre_mean*100:.2f}%')"
   ]
  },
  {
   "cell_type": "code",
   "execution_count": 59,
   "id": "57bfee34",
   "metadata": {},
   "outputs": [
    {
     "name": "stdout",
     "output_type": "stream",
     "text": [
      "Cross Validated Recall Score: 73.82%\n"
     ]
    }
   ],
   "source": [
    "# Cross Validation Recall Score\n",
    "cv_recall = cross_val_score(clf, transformed_X, y, cv=5, scoring='recall')\n",
    "cv_recall_mean = np.mean(cv_recall)\n",
    "print(f'Cross Validated Recall Score: {cv_recall_mean*100:.2f}%')"
   ]
  },
  {
   "cell_type": "code",
   "execution_count": 60,
   "id": "490c2ccc",
   "metadata": {},
   "outputs": [
    {
     "name": "stdout",
     "output_type": "stream",
     "text": [
      "Cross Validated F1 Score: 75.90%\n"
     ]
    }
   ],
   "source": [
    "# Cross Validation F1 Score\n",
    "cv_f1 = cross_val_score(clf, transformed_X, y, cv=5, scoring='f1')\n",
    "cv_f1_mean = np.mean(cv_f1)\n",
    "print(f'Cross Validated F1 Score: {cv_f1_mean*100:.2f}%')"
   ]
  },
  {
   "cell_type": "code",
   "execution_count": 61,
   "id": "523c1d82",
   "metadata": {},
   "outputs": [
    {
     "data": {
      "image/png": "[encoded data removed]",
      "text/plain": [
       "<Figure size 640x480 with 1 Axes>"
      ]
     },
     "metadata": {},
     "output_type": "display_data"
    }
   ],
   "source": [
    "# Visualize Cross Validated Metrics\n",
    "cv_metrics = pd.DataFrame({'Accuracy' : cv_acc_mean, \n",
    "                           'Precision' : cv_pre_mean, \n",
    "                           'Recall Score' : cv_recall_mean, \n",
    "                           'F1 Score' : cv_f1_mean}, index=[0])\n",
    "\n",
    "cv_metrics.T.plot.bar(title = 'Cross Validated Classification Matrics', \n",
    "                      color='#6b9080', legend=False, rot=45);\n",
    "plt.savefig('Cross Validated Classification Matrics.png', dpi=150)"
   ]
  }
 ],
 "metadata": {
  "kernelspec": {
   "display_name": "Python 3 (ipykernel)",
   "language": "python",
   "name": "python3"
  },
  "language_info": {
   "codemirror_mode": {
    "name": "ipython",
    "version": 3
   },
   "file_extension": ".py",
   "mimetype": "text/x-python",
   "name": "python",
   "nbconvert_exporter": "python",
   "pygments_lexer": "ipython3",
   "version": "3.10.8"
  }
 },
 "nbformat": 4,
 "nbformat_minor": 5
}
